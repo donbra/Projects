{
  "cells": [
    {
      "cell_type": "markdown",
      "metadata": {
        "id": "view-in-github",
        "colab_type": "text"
      },
      "source": [
        "<a href=\"https://colab.research.google.com/github/donbra/Projects/blob/main/DMA25_Lab_2_Clustering.ipynb\" target=\"_parent\"><img src=\"https://colab.research.google.com/assets/colab-badge.svg\" alt=\"Open In Colab\"/></a>"
      ]
    },
    {
      "cell_type": "markdown",
      "metadata": {
        "id": "RTtjzb-C8WfV"
      },
      "source": [
        "DATA MINING & ANALYTICS (2025)\n",
        "\n",
        "Make sure you fill in any place that says `YOUR CODE HERE` or `YOUR ANSWER HERE`, as well as your name below:"
      ]
    },
    {
      "cell_type": "code",
      "execution_count": 1,
      "metadata": {
        "id": "84YmnDPm8WfX"
      },
      "outputs": [],
      "source": [
        "NAME = \"\""
      ]
    },
    {
      "cell_type": "markdown",
      "metadata": {
        "id": "mPzgt7538Wfe"
      },
      "source": [
        "---"
      ]
    },
    {
      "cell_type": "markdown",
      "metadata": {
        "deletable": false,
        "editable": false,
        "id": "a84b7eS58Wff",
        "nbgrader": {
          "checksum": "421e2e076e4bd859041d2c49e8c1b374",
          "grade": false,
          "grade_id": "cell-9ca594c076da14a9",
          "locked": true,
          "schema_version": 1,
          "solution": false
        }
      },
      "source": [
        "# Lab 2: Clustering ##\n",
        "\n",
        "**Please read the following instructions very carefully.**\n",
        "\n",
        "## About the Dataset\n",
        "The dataset for this lab has been created from some custom features from Lab 1. The columns are named as q1, q2....etc. A description of the features can be found at this link: https://docs.google.com/spreadsheets/d/18wwyjGku2HYfgDX9Vez64lGHz31E_PfbpmAdfb7ly6M/edit?usp=sharing\n",
        "\n",
        "## Working on the assignment / FAQs\n",
        "- **Always use the seed/random_state as *42* wherever applicable** (This is to ensure repeatability in answers, across students and coding environments).\n",
        "    - This can typically look like taking in another argument `random_state = 42` when applicable.\n",
        "- The points allotted per question is listed.\n",
        "- To avoid any ambiguity, each question also specifies what *value* the function must return. Note that these are dummy values and not the answers themselves.\n",
        "- If a question has multiple answers (due to differences in handling NaNs, zeros etc.), all answers will be considered.\n",
        "- Most assignments have bonus questions for extra credit, do try them out!\n",
        "- You can delete the `raise NotImplementedError()` when you are attempting the question.\n",
        "- **Submitting the assignment** : Save your work as a PDF (Print -> Save as PDF), download the `.ipynb` file from Colab (Download -> Download as .ipynb), and upload these two files to Gradescope. **Run all cells before submitting.**\n",
        "- **MAKE A COPY OF THIS FILE FOR YOURSELF TO EDIT/SAVE.**\n",
        "- That's about it. Happy coding!"
      ]
    },
    {
      "cell_type": "code",
      "execution_count": 2,
      "metadata": {
        "deletable": false,
        "editable": false,
        "id": "uS-ZiJUd8Wfg",
        "nbgrader": {
          "checksum": "ccd093de0c01c601220c82809d785907",
          "grade": false,
          "grade_id": "cell-11a8a6cab098e8a1",
          "locked": true,
          "schema_version": 1,
          "solution": false
        },
        "colab": {
          "base_uri": "https://localhost:8080/",
          "height": 0
        },
        "outputId": "289ca1d5-1135-4006-ca3c-d3a3a0e55e7d"
      },
      "outputs": [
        {
          "output_type": "stream",
          "name": "stdout",
          "text": [
            "File ‘yelp_reviewers.csv’ already there; not retrieving.\n",
            "\n",
            "Dataset Downloaded: yelp_reviewers.csv\n",
            "                q3           q4           q5           q6           q7  \\\n",
            "count  7177.000000  7177.000000  7177.000000  7177.000000  7177.000000   \n",
            "mean      6.838651     5.281455     4.750871     8.808973     1.539160   \n",
            "std       7.597977    16.208703    13.866352    19.980443     0.885421   \n",
            "min       1.000000     1.000000     1.000000     1.000000     0.000000   \n",
            "25%       3.000000     1.000000     1.000000     2.000000     1.100000   \n",
            "50%       5.000000     2.000000     2.000000     5.000000     1.610000   \n",
            "75%       9.000000     4.000000     4.000000     9.000000     2.200000   \n",
            "max     252.000000   607.000000   474.000000   773.000000     5.530000   \n",
            "\n",
            "                q8           q9          q10          q11          q12  ...  \\\n",
            "count  7177.000000  7177.000000  7177.000000  7177.000000  7177.000000  ...   \n",
            "mean      0.934928     0.870281     1.549898    26.732782    25.660616  ...   \n",
            "std       0.976816     0.950066     1.024145    10.226302    11.451583  ...   \n",
            "min       0.000000     0.000000     0.000000     2.900000     1.410000  ...   \n",
            "25%       0.000000     0.000000     0.690000    20.000000    16.670000  ...   \n",
            "50%       0.690000     0.690000     1.610000    25.710000    25.000000  ...   \n",
            "75%       1.390000     1.390000     2.200000    33.330000    33.330000  ...   \n",
            "max       6.410000     6.160000     6.650000    77.780000    75.000000  ...   \n",
            "\n",
            "              q16r         q16u         q16v         q16w         q16x  \\\n",
            "count  7177.000000  7177.000000  7177.000000  7177.000000  7177.000000   \n",
            "mean      3.641912     0.462843    22.503414    25.665180     0.003744   \n",
            "std       1.483358     0.507827    14.350555    29.021007     0.006019   \n",
            "min       1.000000     0.000000     1.000000     1.000000     0.000000   \n",
            "25%       3.000000     0.000000    10.000000     9.000000     0.000491   \n",
            "50%       4.000000     0.333333    21.000000    18.000000     0.001967   \n",
            "75%       5.000000     0.666667    33.000000    33.000000     0.004666   \n",
            "max       5.000000     6.000000    53.000000   868.000000     0.150618   \n",
            "\n",
            "              q16y         q16z        q16aa        q16ab        q16ac  \n",
            "count  7177.000000  7177.000000  7177.000000  7177.000000  7177.000000  \n",
            "mean     74.046169     0.675212     0.552041     1.127751     3.649254  \n",
            "std      50.031941     1.503059     2.042566     4.652206     0.977100  \n",
            "min       1.333333     0.000000     0.000000     0.000000     1.000000  \n",
            "25%      39.666667     0.000000     0.000000     0.000000     3.200000  \n",
            "50%      62.900000     0.000000     0.000000     0.500000     3.777778  \n",
            "75%      95.687500     1.000000     0.000000     1.307692     4.333333  \n",
            "max     507.200000    44.000000   106.000000   342.300000     5.000000  \n",
            "\n",
            "[8 rows x 40 columns]\n",
            "....SETUP COMPLETE....\n"
          ]
        }
      ],
      "source": [
        "import pandas as pd\n",
        "import collections\n",
        "from sklearn.cluster import KMeans\n",
        "from sklearn.metrics import silhouette_score\n",
        "import numpy as np\n",
        "from sklearn.preprocessing import normalize\n",
        "\n",
        "import matplotlib\n",
        "import matplotlib.pyplot as plt\n",
        "\n",
        "%matplotlib inline\n",
        "matplotlib.style.use('ggplot')\n",
        "\n",
        "#DOWNLOADING DATASET\n",
        "!wget -nc http://quadro.ist.berkeley.edu:1331/yelp_reviewers.csv\n",
        "# !unzip -u yelp_reviewers.zip\n",
        "print('Dataset Downloaded: yelp_reviewers.csv')\n",
        "df = pd.read_csv('yelp_reviewers.csv', delimiter= ',')\n",
        "df = df.sample(frac=0.3, random_state=42)\n",
        "print(df.dropna().describe())\n",
        "\n",
        "print('....SETUP COMPLETE....')"
      ]
    },
    {
      "cell_type": "code",
      "execution_count": 3,
      "metadata": {
        "id": "ANCMpJ178foc",
        "colab": {
          "base_uri": "https://localhost:8080/",
          "height": 1418
        },
        "outputId": "3f268979-2f7a-4608-a133-96c7536ab21d"
      },
      "outputs": [
        {
          "output_type": "execute_result",
          "data": {
            "text/plain": [
              "                         129451                  116706  \\\n",
              "user_id  kIWQXgjmVdgEs9BOgr8G5A  fXU_-5DBmNlGhI8fbX-2vQ   \n",
              "q3                            1                       1   \n",
              "q4                            0                       0   \n",
              "q5                            0                       0   \n",
              "q6                            0                       0   \n",
              "q7                          0.0                     0.0   \n",
              "q8                          NaN                     NaN   \n",
              "q9                          NaN                     NaN   \n",
              "q10                         NaN                     NaN   \n",
              "q11                         NaN                     NaN   \n",
              "q12                         NaN                     NaN   \n",
              "q13                         NaN                     NaN   \n",
              "q14                           7                      10   \n",
              "q15                       510.0                   132.0   \n",
              "q16a                          0                       0   \n",
              "q16b                        0.0                     0.0   \n",
              "q16c                        0.0                     0.0   \n",
              "q16d                        3.0                     1.0   \n",
              "q16e                   0.013725                0.045455   \n",
              "q16f                        0.0                     0.0   \n",
              "q16g                          0                       1   \n",
              "q16h                          0                       1   \n",
              "q16i                          0                       0   \n",
              "q16j                        0.0                     0.0   \n",
              "q16k                          0                       0   \n",
              "q16l                          0                       0   \n",
              "q16m                        3.0                     0.0   \n",
              "q16n                        0.0                     0.0   \n",
              "q16o                        0.0                     1.0   \n",
              "q16p                        0.0                     0.0   \n",
              "q16q                        0.0                     0.0   \n",
              "q16r                          3                       1   \n",
              "q16s                experienced             experienced   \n",
              "q16t                         no                      no   \n",
              "q16u                        0.0                     0.0   \n",
              "q16v                         13                      35   \n",
              "q16w                          3                       1   \n",
              "q16x                        0.0                0.007576   \n",
              "q16y                      101.0                    23.0   \n",
              "q16z                          0                       0   \n",
              "q16aa                         0                       0   \n",
              "q16ab                       NaN                     0.0   \n",
              "q16ac                       3.0                     1.0   \n",
              "\n",
              "                         144394                  24699   \\\n",
              "user_id  prF_lbKywPnZhNqvJOOaDw  8GHUeOm807bI5Qh4X3CHBA   \n",
              "q3                            1                       1   \n",
              "q4                            0                       0   \n",
              "q5                            0                       0   \n",
              "q6                            0                       0   \n",
              "q7                          0.0                     0.0   \n",
              "q8                          NaN                     NaN   \n",
              "q9                          NaN                     NaN   \n",
              "q10                         NaN                     NaN   \n",
              "q11                         NaN                     NaN   \n",
              "q12                         NaN                     NaN   \n",
              "q13                         NaN                     NaN   \n",
              "q14                           9                       8   \n",
              "q15                      1792.0                   283.0   \n",
              "q16a                          0                       0   \n",
              "q16b                        0.0                     0.0   \n",
              "q16c                        0.0                     0.0   \n",
              "q16d                        3.0                     5.0   \n",
              "q16e                   0.027344                0.017668   \n",
              "q16f                        0.0                     0.0   \n",
              "q16g                          1                       0   \n",
              "q16h                          1                       0   \n",
              "q16i                          0                       0   \n",
              "q16j                        0.0                     0.0   \n",
              "q16k                          0                       0   \n",
              "q16l                          0                       0   \n",
              "q16m                       12.0                     1.0   \n",
              "q16n                        1.0                     0.0   \n",
              "q16o                        1.0                     0.0   \n",
              "q16p                        1.0                     0.0   \n",
              "q16q                        0.0                     0.0   \n",
              "q16r                          3                       5   \n",
              "q16s                experienced             experienced   \n",
              "q16t                         no                      no   \n",
              "q16u                        2.0                     0.0   \n",
              "q16v                         36                      33   \n",
              "q16w                          3                       5   \n",
              "q16x                   0.001685                     0.0   \n",
              "q16y                      363.0                    50.0   \n",
              "q16z                          0                       0   \n",
              "q16aa                         0                       0   \n",
              "q16ab                       NaN                     2.0   \n",
              "q16ac                       3.0                     5.0   \n",
              "\n",
              "                         47453   \n",
              "user_id  Gd_IGX3BmRYbPD84ovLEoA  \n",
              "q3                            8  \n",
              "q4                            2  \n",
              "q5                            1  \n",
              "q6                            8  \n",
              "q7                         2.08  \n",
              "q8                         0.69  \n",
              "q9                          0.0  \n",
              "q10                        2.08  \n",
              "q11                       18.18  \n",
              "q12                        9.09  \n",
              "q13                       72.73  \n",
              "q14                          10  \n",
              "q15                      663.38  \n",
              "q16a                          4  \n",
              "q16b                   0.353553  \n",
              "q16c                   0.002073  \n",
              "q16d                      4.875  \n",
              "q16e                   0.022989  \n",
              "q16f                   0.330719  \n",
              "q16g                          2  \n",
              "q16h                          6  \n",
              "q16i                          0  \n",
              "q16j                      1.375  \n",
              "q16k                          1  \n",
              "q16l                          0  \n",
              "q16m                        4.5  \n",
              "q16n                      0.125  \n",
              "q16o                       0.75  \n",
              "q16p                        1.0  \n",
              "q16q                   0.192489  \n",
              "q16r                          5  \n",
              "q16s                experienced  \n",
              "q16t                         no  \n",
              "q16u                      0.375  \n",
              "q16v                          8  \n",
              "q16w                         39  \n",
              "q16x                   0.001755  \n",
              "q16y                  91.072917  \n",
              "q16z                          4  \n",
              "q16aa                         0  \n",
              "q16ab                       1.0  \n",
              "q16ac                     4.875  "
            ],
            "text/html": [
              "\n",
              "  <div id=\"df-a277ab46-5cd0-4b22-b4c8-2488fff8e5a7\" class=\"colab-df-container\">\n",
              "    <div>\n",
              "<style scoped>\n",
              "    .dataframe tbody tr th:only-of-type {\n",
              "        vertical-align: middle;\n",
              "    }\n",
              "\n",
              "    .dataframe tbody tr th {\n",
              "        vertical-align: top;\n",
              "    }\n",
              "\n",
              "    .dataframe thead th {\n",
              "        text-align: right;\n",
              "    }\n",
              "</style>\n",
              "<table border=\"1\" class=\"dataframe\">\n",
              "  <thead>\n",
              "    <tr style=\"text-align: right;\">\n",
              "      <th></th>\n",
              "      <th>129451</th>\n",
              "      <th>116706</th>\n",
              "      <th>144394</th>\n",
              "      <th>24699</th>\n",
              "      <th>47453</th>\n",
              "    </tr>\n",
              "  </thead>\n",
              "  <tbody>\n",
              "    <tr>\n",
              "      <th>user_id</th>\n",
              "      <td>kIWQXgjmVdgEs9BOgr8G5A</td>\n",
              "      <td>fXU_-5DBmNlGhI8fbX-2vQ</td>\n",
              "      <td>prF_lbKywPnZhNqvJOOaDw</td>\n",
              "      <td>8GHUeOm807bI5Qh4X3CHBA</td>\n",
              "      <td>Gd_IGX3BmRYbPD84ovLEoA</td>\n",
              "    </tr>\n",
              "    <tr>\n",
              "      <th>q3</th>\n",
              "      <td>1</td>\n",
              "      <td>1</td>\n",
              "      <td>1</td>\n",
              "      <td>1</td>\n",
              "      <td>8</td>\n",
              "    </tr>\n",
              "    <tr>\n",
              "      <th>q4</th>\n",
              "      <td>0</td>\n",
              "      <td>0</td>\n",
              "      <td>0</td>\n",
              "      <td>0</td>\n",
              "      <td>2</td>\n",
              "    </tr>\n",
              "    <tr>\n",
              "      <th>q5</th>\n",
              "      <td>0</td>\n",
              "      <td>0</td>\n",
              "      <td>0</td>\n",
              "      <td>0</td>\n",
              "      <td>1</td>\n",
              "    </tr>\n",
              "    <tr>\n",
              "      <th>q6</th>\n",
              "      <td>0</td>\n",
              "      <td>0</td>\n",
              "      <td>0</td>\n",
              "      <td>0</td>\n",
              "      <td>8</td>\n",
              "    </tr>\n",
              "    <tr>\n",
              "      <th>q7</th>\n",
              "      <td>0.0</td>\n",
              "      <td>0.0</td>\n",
              "      <td>0.0</td>\n",
              "      <td>0.0</td>\n",
              "      <td>2.08</td>\n",
              "    </tr>\n",
              "    <tr>\n",
              "      <th>q8</th>\n",
              "      <td>NaN</td>\n",
              "      <td>NaN</td>\n",
              "      <td>NaN</td>\n",
              "      <td>NaN</td>\n",
              "      <td>0.69</td>\n",
              "    </tr>\n",
              "    <tr>\n",
              "      <th>q9</th>\n",
              "      <td>NaN</td>\n",
              "      <td>NaN</td>\n",
              "      <td>NaN</td>\n",
              "      <td>NaN</td>\n",
              "      <td>0.0</td>\n",
              "    </tr>\n",
              "    <tr>\n",
              "      <th>q10</th>\n",
              "      <td>NaN</td>\n",
              "      <td>NaN</td>\n",
              "      <td>NaN</td>\n",
              "      <td>NaN</td>\n",
              "      <td>2.08</td>\n",
              "    </tr>\n",
              "    <tr>\n",
              "      <th>q11</th>\n",
              "      <td>NaN</td>\n",
              "      <td>NaN</td>\n",
              "      <td>NaN</td>\n",
              "      <td>NaN</td>\n",
              "      <td>18.18</td>\n",
              "    </tr>\n",
              "    <tr>\n",
              "      <th>q12</th>\n",
              "      <td>NaN</td>\n",
              "      <td>NaN</td>\n",
              "      <td>NaN</td>\n",
              "      <td>NaN</td>\n",
              "      <td>9.09</td>\n",
              "    </tr>\n",
              "    <tr>\n",
              "      <th>q13</th>\n",
              "      <td>NaN</td>\n",
              "      <td>NaN</td>\n",
              "      <td>NaN</td>\n",
              "      <td>NaN</td>\n",
              "      <td>72.73</td>\n",
              "    </tr>\n",
              "    <tr>\n",
              "      <th>q14</th>\n",
              "      <td>7</td>\n",
              "      <td>10</td>\n",
              "      <td>9</td>\n",
              "      <td>8</td>\n",
              "      <td>10</td>\n",
              "    </tr>\n",
              "    <tr>\n",
              "      <th>q15</th>\n",
              "      <td>510.0</td>\n",
              "      <td>132.0</td>\n",
              "      <td>1792.0</td>\n",
              "      <td>283.0</td>\n",
              "      <td>663.38</td>\n",
              "    </tr>\n",
              "    <tr>\n",
              "      <th>q16a</th>\n",
              "      <td>0</td>\n",
              "      <td>0</td>\n",
              "      <td>0</td>\n",
              "      <td>0</td>\n",
              "      <td>4</td>\n",
              "    </tr>\n",
              "    <tr>\n",
              "      <th>q16b</th>\n",
              "      <td>0.0</td>\n",
              "      <td>0.0</td>\n",
              "      <td>0.0</td>\n",
              "      <td>0.0</td>\n",
              "      <td>0.353553</td>\n",
              "    </tr>\n",
              "    <tr>\n",
              "      <th>q16c</th>\n",
              "      <td>0.0</td>\n",
              "      <td>0.0</td>\n",
              "      <td>0.0</td>\n",
              "      <td>0.0</td>\n",
              "      <td>0.002073</td>\n",
              "    </tr>\n",
              "    <tr>\n",
              "      <th>q16d</th>\n",
              "      <td>3.0</td>\n",
              "      <td>1.0</td>\n",
              "      <td>3.0</td>\n",
              "      <td>5.0</td>\n",
              "      <td>4.875</td>\n",
              "    </tr>\n",
              "    <tr>\n",
              "      <th>q16e</th>\n",
              "      <td>0.013725</td>\n",
              "      <td>0.045455</td>\n",
              "      <td>0.027344</td>\n",
              "      <td>0.017668</td>\n",
              "      <td>0.022989</td>\n",
              "    </tr>\n",
              "    <tr>\n",
              "      <th>q16f</th>\n",
              "      <td>0.0</td>\n",
              "      <td>0.0</td>\n",
              "      <td>0.0</td>\n",
              "      <td>0.0</td>\n",
              "      <td>0.330719</td>\n",
              "    </tr>\n",
              "    <tr>\n",
              "      <th>q16g</th>\n",
              "      <td>0</td>\n",
              "      <td>1</td>\n",
              "      <td>1</td>\n",
              "      <td>0</td>\n",
              "      <td>2</td>\n",
              "    </tr>\n",
              "    <tr>\n",
              "      <th>q16h</th>\n",
              "      <td>0</td>\n",
              "      <td>1</td>\n",
              "      <td>1</td>\n",
              "      <td>0</td>\n",
              "      <td>6</td>\n",
              "    </tr>\n",
              "    <tr>\n",
              "      <th>q16i</th>\n",
              "      <td>0</td>\n",
              "      <td>0</td>\n",
              "      <td>0</td>\n",
              "      <td>0</td>\n",
              "      <td>0</td>\n",
              "    </tr>\n",
              "    <tr>\n",
              "      <th>q16j</th>\n",
              "      <td>0.0</td>\n",
              "      <td>0.0</td>\n",
              "      <td>0.0</td>\n",
              "      <td>0.0</td>\n",
              "      <td>1.375</td>\n",
              "    </tr>\n",
              "    <tr>\n",
              "      <th>q16k</th>\n",
              "      <td>0</td>\n",
              "      <td>0</td>\n",
              "      <td>0</td>\n",
              "      <td>0</td>\n",
              "      <td>1</td>\n",
              "    </tr>\n",
              "    <tr>\n",
              "      <th>q16l</th>\n",
              "      <td>0</td>\n",
              "      <td>0</td>\n",
              "      <td>0</td>\n",
              "      <td>0</td>\n",
              "      <td>0</td>\n",
              "    </tr>\n",
              "    <tr>\n",
              "      <th>q16m</th>\n",
              "      <td>3.0</td>\n",
              "      <td>0.0</td>\n",
              "      <td>12.0</td>\n",
              "      <td>1.0</td>\n",
              "      <td>4.5</td>\n",
              "    </tr>\n",
              "    <tr>\n",
              "      <th>q16n</th>\n",
              "      <td>0.0</td>\n",
              "      <td>0.0</td>\n",
              "      <td>1.0</td>\n",
              "      <td>0.0</td>\n",
              "      <td>0.125</td>\n",
              "    </tr>\n",
              "    <tr>\n",
              "      <th>q16o</th>\n",
              "      <td>0.0</td>\n",
              "      <td>1.0</td>\n",
              "      <td>1.0</td>\n",
              "      <td>0.0</td>\n",
              "      <td>0.75</td>\n",
              "    </tr>\n",
              "    <tr>\n",
              "      <th>q16p</th>\n",
              "      <td>0.0</td>\n",
              "      <td>0.0</td>\n",
              "      <td>1.0</td>\n",
              "      <td>0.0</td>\n",
              "      <td>1.0</td>\n",
              "    </tr>\n",
              "    <tr>\n",
              "      <th>q16q</th>\n",
              "      <td>0.0</td>\n",
              "      <td>0.0</td>\n",
              "      <td>0.0</td>\n",
              "      <td>0.0</td>\n",
              "      <td>0.192489</td>\n",
              "    </tr>\n",
              "    <tr>\n",
              "      <th>q16r</th>\n",
              "      <td>3</td>\n",
              "      <td>1</td>\n",
              "      <td>3</td>\n",
              "      <td>5</td>\n",
              "      <td>5</td>\n",
              "    </tr>\n",
              "    <tr>\n",
              "      <th>q16s</th>\n",
              "      <td>experienced</td>\n",
              "      <td>experienced</td>\n",
              "      <td>experienced</td>\n",
              "      <td>experienced</td>\n",
              "      <td>experienced</td>\n",
              "    </tr>\n",
              "    <tr>\n",
              "      <th>q16t</th>\n",
              "      <td>no</td>\n",
              "      <td>no</td>\n",
              "      <td>no</td>\n",
              "      <td>no</td>\n",
              "      <td>no</td>\n",
              "    </tr>\n",
              "    <tr>\n",
              "      <th>q16u</th>\n",
              "      <td>0.0</td>\n",
              "      <td>0.0</td>\n",
              "      <td>2.0</td>\n",
              "      <td>0.0</td>\n",
              "      <td>0.375</td>\n",
              "    </tr>\n",
              "    <tr>\n",
              "      <th>q16v</th>\n",
              "      <td>13</td>\n",
              "      <td>35</td>\n",
              "      <td>36</td>\n",
              "      <td>33</td>\n",
              "      <td>8</td>\n",
              "    </tr>\n",
              "    <tr>\n",
              "      <th>q16w</th>\n",
              "      <td>3</td>\n",
              "      <td>1</td>\n",
              "      <td>3</td>\n",
              "      <td>5</td>\n",
              "      <td>39</td>\n",
              "    </tr>\n",
              "    <tr>\n",
              "      <th>q16x</th>\n",
              "      <td>0.0</td>\n",
              "      <td>0.007576</td>\n",
              "      <td>0.001685</td>\n",
              "      <td>0.0</td>\n",
              "      <td>0.001755</td>\n",
              "    </tr>\n",
              "    <tr>\n",
              "      <th>q16y</th>\n",
              "      <td>101.0</td>\n",
              "      <td>23.0</td>\n",
              "      <td>363.0</td>\n",
              "      <td>50.0</td>\n",
              "      <td>91.072917</td>\n",
              "    </tr>\n",
              "    <tr>\n",
              "      <th>q16z</th>\n",
              "      <td>0</td>\n",
              "      <td>0</td>\n",
              "      <td>0</td>\n",
              "      <td>0</td>\n",
              "      <td>4</td>\n",
              "    </tr>\n",
              "    <tr>\n",
              "      <th>q16aa</th>\n",
              "      <td>0</td>\n",
              "      <td>0</td>\n",
              "      <td>0</td>\n",
              "      <td>0</td>\n",
              "      <td>0</td>\n",
              "    </tr>\n",
              "    <tr>\n",
              "      <th>q16ab</th>\n",
              "      <td>NaN</td>\n",
              "      <td>0.0</td>\n",
              "      <td>NaN</td>\n",
              "      <td>2.0</td>\n",
              "      <td>1.0</td>\n",
              "    </tr>\n",
              "    <tr>\n",
              "      <th>q16ac</th>\n",
              "      <td>3.0</td>\n",
              "      <td>1.0</td>\n",
              "      <td>3.0</td>\n",
              "      <td>5.0</td>\n",
              "      <td>4.875</td>\n",
              "    </tr>\n",
              "  </tbody>\n",
              "</table>\n",
              "</div>\n",
              "    <div class=\"colab-df-buttons\">\n",
              "      \n",
              "  <div class=\"colab-df-container\">\n",
              "    <button class=\"colab-df-convert\" onclick=\"convertToInteractive('df-a277ab46-5cd0-4b22-b4c8-2488fff8e5a7')\"\n",
              "            title=\"Convert this dataframe to an interactive table.\"\n",
              "            style=\"display:none;\">\n",
              "      \n",
              "  <svg xmlns=\"http://www.w3.org/2000/svg\" height=\"24px\" viewBox=\"0 -960 960 960\">\n",
              "    <path d=\"M120-120v-720h720v720H120Zm60-500h600v-160H180v160Zm220 220h160v-160H400v160Zm0 220h160v-160H400v160ZM180-400h160v-160H180v160Zm440 0h160v-160H620v160ZM180-180h160v-160H180v160Zm440 0h160v-160H620v160Z\"/>\n",
              "  </svg>\n",
              "    </button>\n",
              "    \n",
              "  <style>\n",
              "    .colab-df-container {\n",
              "      display:flex;\n",
              "      gap: 12px;\n",
              "    }\n",
              "\n",
              "    .colab-df-convert {\n",
              "      background-color: #E8F0FE;\n",
              "      border: none;\n",
              "      border-radius: 50%;\n",
              "      cursor: pointer;\n",
              "      display: none;\n",
              "      fill: #1967D2;\n",
              "      height: 32px;\n",
              "      padding: 0 0 0 0;\n",
              "      width: 32px;\n",
              "    }\n",
              "\n",
              "    .colab-df-convert:hover {\n",
              "      background-color: #E2EBFA;\n",
              "      box-shadow: 0px 1px 2px rgba(60, 64, 67, 0.3), 0px 1px 3px 1px rgba(60, 64, 67, 0.15);\n",
              "      fill: #174EA6;\n",
              "    }\n",
              "\n",
              "    .colab-df-buttons div {\n",
              "      margin-bottom: 4px;\n",
              "    }\n",
              "\n",
              "    [theme=dark] .colab-df-convert {\n",
              "      background-color: #3B4455;\n",
              "      fill: #D2E3FC;\n",
              "    }\n",
              "\n",
              "    [theme=dark] .colab-df-convert:hover {\n",
              "      background-color: #434B5C;\n",
              "      box-shadow: 0px 1px 3px 1px rgba(0, 0, 0, 0.15);\n",
              "      filter: drop-shadow(0px 1px 2px rgba(0, 0, 0, 0.3));\n",
              "      fill: #FFFFFF;\n",
              "    }\n",
              "  </style>\n",
              "\n",
              "    <script>\n",
              "      const buttonEl =\n",
              "        document.querySelector('#df-a277ab46-5cd0-4b22-b4c8-2488fff8e5a7 button.colab-df-convert');\n",
              "      buttonEl.style.display =\n",
              "        google.colab.kernel.accessAllowed ? 'block' : 'none';\n",
              "\n",
              "      async function convertToInteractive(key) {\n",
              "        const element = document.querySelector('#df-a277ab46-5cd0-4b22-b4c8-2488fff8e5a7');\n",
              "        const dataTable =\n",
              "          await google.colab.kernel.invokeFunction('convertToInteractive',\n",
              "                                                    [key], {});\n",
              "        if (!dataTable) return;\n",
              "\n",
              "        const docLinkHtml = 'Like what you see? Visit the ' +\n",
              "          '<a target=\"_blank\" href=https://colab.research.google.com/notebooks/data_table.ipynb>data table notebook</a>'\n",
              "          + ' to learn more about interactive tables.';\n",
              "        element.innerHTML = '';\n",
              "        dataTable['output_type'] = 'display_data';\n",
              "        await google.colab.output.renderOutput(dataTable, element);\n",
              "        const docLink = document.createElement('div');\n",
              "        docLink.innerHTML = docLinkHtml;\n",
              "        element.appendChild(docLink);\n",
              "      }\n",
              "    </script>\n",
              "  </div>\n",
              "  \n",
              "    </div>\n",
              "  </div>\n",
              "  "
            ]
          },
          "metadata": {},
          "execution_count": 3
        }
      ],
      "source": [
        "df.head().T"
      ]
    },
    {
      "cell_type": "markdown",
      "metadata": {
        "deletable": false,
        "editable": false,
        "id": "mV9fSZv88Wfk",
        "nbgrader": {
          "checksum": "abffba52a1391fd598ceb32fa84a5960",
          "grade": false,
          "grade_id": "cell-91b1f66036bc756a",
          "locked": true,
          "schema_version": 1,
          "solution": false
        }
      },
      "source": [
        "---"
      ]
    },
    {
      "cell_type": "markdown",
      "metadata": {
        "deletable": false,
        "editable": false,
        "id": "FyEW1omS8Wfk",
        "nbgrader": {
          "checksum": "9a3601934d89674b0f1ddb8953f392b8",
          "grade": false,
          "grade_id": "cell-3cb43492c95c0336",
          "locked": true,
          "schema_version": 1,
          "solution": false
        }
      },
      "source": [
        "### Question 1 `(1 point)`\n",
        "What is the best choice of k according to the silhouette metric for clustering q4-q6? Only consider 2 <= k <= 8. (hint: take a look at `silhouette_score`).\n",
        "\n",
        "\n",
        "**NOTE**: For features with high variance, empty clusters can occur. There are several ways of dealing with empty clusters. A common approach is to drop empty clusters. The preferred approach for this lab is to treat the empty clusters as “singletons”, leaving them empty with single point placeholders (so no need to drop anything for the purposes of the lab).\n",
        "\n",
        "For KMeans use argument **n_init = 10** when applicable, n_init is the number of times the KMeans algorithm is run with different centroid seeds.\n"
      ]
    },
    {
      "cell_type": "code",
      "execution_count": 4,
      "metadata": {
        "deletable": false,
        "id": "SHN499lB8Wfl",
        "nbgrader": {
          "checksum": "d870b56ad1274ceed7a8c1ad14120f4d",
          "grade": false,
          "grade_id": "cell-35daa961ef9ef163",
          "locked": false,
          "schema_version": 1,
          "solution": true
        },
        "colab": {
          "base_uri": "https://localhost:8080/",
          "height": 0
        },
        "outputId": "425b0013-1d68-4e60-e5c1-db8b61019b45"
      },
      "outputs": [
        {
          "output_type": "stream",
          "name": "stdout",
          "text": [
            "0.969716785246905\n"
          ]
        }
      ],
      "source": [
        "#Make sure you return the answer value in this function.\n",
        "#The return value should be an integer.\n",
        "def q1(df):\n",
        "\n",
        "  # YOUR CODE HERE\n",
        "  # For KMeans use argument n_init = 10 when applicable.\n",
        "  adjusted_df = df.iloc[:, 1:3]\n",
        "  kmeans = KMeans(n_clusters= 3,random_state= 42,n_init = 10)\n",
        "  kmeans.fit(adjusted_df)\n",
        "  score = silhouette_score(adjusted_df, kmeans.labels_)\n",
        "  return score\n",
        "  # raise NotImplementedError()\n",
        "\n",
        "print(q1(df))"
      ]
    },
    {
      "cell_type": "markdown",
      "metadata": {
        "deletable": false,
        "editable": false,
        "id": "t1USbOiZ8Wfo",
        "nbgrader": {
          "checksum": "9229f3626bea7238f91b319b76f8d6c1",
          "grade": false,
          "grade_id": "cell-1f4af152457c700f",
          "locked": true,
          "schema_version": 1,
          "solution": false
        }
      },
      "source": [
        "What is the best choice of k?"
      ]
    },
    {
      "cell_type": "code",
      "execution_count": 5,
      "metadata": {
        "deletable": false,
        "id": "IiP-7-BI8Wfp",
        "nbgrader": {
          "checksum": "e686f8bb8933c06c0b80f1d3a0ab7c4c",
          "grade": true,
          "grade_id": "cell-75f42d06e03fe139",
          "locked": false,
          "points": 1,
          "schema_version": 1,
          "solution": true
        },
        "colab": {
          "base_uri": "https://localhost:8080/",
          "height": 0
        },
        "outputId": "d688f739-366b-4fde-d58b-0c80313031e8"
      },
      "outputs": [
        {
          "output_type": "stream",
          "name": "stdout",
          "text": [
            "3\n"
          ]
        }
      ],
      "source": [
        "print(3)"
      ]
    },
    {
      "cell_type": "markdown",
      "metadata": {
        "deletable": false,
        "editable": false,
        "id": "nR7L0bqm8Wft",
        "nbgrader": {
          "checksum": "4d1db294cd60c6368ab7f1cc287ac861",
          "grade": false,
          "grade_id": "cell-3f1e7c00e311da4b",
          "locked": true,
          "schema_version": 1,
          "solution": false
        }
      },
      "source": [
        "### Question 2 `(1 point)`\n",
        "The Elbow Method leverages the decreasing trend of within-cluster variation to determine the optimal number of clusters. Calculate the within-cluster variation (Sum of Square Error) for clustering q7-q10. Only consider 2 <=k<= 8. (hint: use the formula from reading 10.2 for SSE)\n",
        "\n",
        "**Note:** Keep in mind, there may be missing values in this part of the dataset! For these missing values, first find the subset of data specified for this question (q7-q10), then replace the missing values with 0. We do this since the missing values from q7-q10 are most commonly because of taking the log's of values of 0 from q3-q6.\n",
        "\n",
        "For KMeans use argument **n_init = 10** when applicable."
      ]
    },
    {
      "cell_type": "code",
      "execution_count": 6,
      "metadata": {
        "deletable": false,
        "id": "Jv9s-92L8Wft",
        "nbgrader": {
          "checksum": "9cf8b96c08dc833c7b88ee35362ed959",
          "grade": false,
          "grade_id": "cell-dc62c66cc9acf621",
          "locked": false,
          "schema_version": 1,
          "solution": true
        },
        "colab": {
          "base_uri": "https://localhost:8080/",
          "height": 0
        },
        "outputId": "e1faed68-e3fa-4d7b-a67b-9b4e93e07465"
      },
      "outputs": [
        {
          "output_type": "stream",
          "name": "stdout",
          "text": [
            "[51341.007397651694, 35159.14304241212, 26280.04917046354, 22137.50732564306, 19358.540755023452, 16959.546596172284, 15453.885332151447]\n"
          ]
        }
      ],
      "source": [
        "#Make sure you return the answer value in this function.\n",
        "#The return value should be a dictionary. Eg : {2:1000,3:500,4:1460} for each number of clusters.(Truncate to integers)\n",
        "def q2(df):\n",
        "\n",
        "  # YOUR CODE HERE\n",
        "  # For KMeans use argument n_init = 10 when applicable.\n",
        "  adjust_df = df.iloc[:, 5:9]\n",
        "  adjust_df = adjust_df.fillna(0)\n",
        "  values = []\n",
        "  for i in range(2,9):\n",
        "    kmeans = KMeans(n_clusters=i, n_init= 10, random_state= 42)\n",
        "    kmeans.fit(adjust_df)\n",
        "    values.append(kmeans.inertia_)\n",
        "  return (values)\n",
        "  raise NotImplementedError()\n",
        "\n",
        "print(q2(df))"
      ]
    },
    {
      "cell_type": "code",
      "execution_count": 7,
      "metadata": {
        "deletable": false,
        "editable": false,
        "id": "WwlzPYjj8Wf0",
        "nbgrader": {
          "checksum": "39518f72ac99d22c2be6e053d683ecb3",
          "grade": true,
          "grade_id": "cell-b9c0fc321a251e1e",
          "locked": false,
          "points": 0.5,
          "schema_version": 1,
          "solution": true
        },
        "colab": {
          "base_uri": "https://localhost:8080/",
          "height": 0
        },
        "outputId": "5e6e2c14-1a9b-4638-eda2-ff045eff501d"
      },
      "outputs": [
        {
          "output_type": "stream",
          "name": "stdout",
          "text": [
            "[51341.007397651694, 35159.14304241212, 26280.04917046354, 22137.50732564306, 19358.540755023452, 16959.546596172284, 15453.885332151447]\n"
          ]
        }
      ],
      "source": [
        "#This is an graded cell, do not edit\n",
        "print(q2(df))"
      ]
    },
    {
      "cell_type": "markdown",
      "metadata": {
        "deletable": false,
        "editable": false,
        "id": "QW6AW5SN8Wf3",
        "nbgrader": {
          "checksum": "685cbed1a7666b907cfd74876798b246",
          "grade": false,
          "grade_id": "cell-abc5d1274688008b",
          "locked": true,
          "schema_version": 1,
          "solution": false
        }
      },
      "source": [
        "### Question 3 `(1 point)`\n",
        "What is the best choice of k according to the silhouette metric for clustering q11-q13? Only consider 2 <= k <= 8.\n",
        "\n",
        "**Note:** Keep in mind, there may be missing values in this part of the dataset! For these missing values, first find the subset of data specified for this question (q11-q13), then drop rows that have missing values.\n",
        "\n",
        "For KMeans use argument **n_init = 10** when applicable"
      ]
    },
    {
      "cell_type": "code",
      "execution_count": 8,
      "metadata": {
        "deletable": false,
        "id": "FU0QGeDx8Wf6",
        "nbgrader": {
          "checksum": "79b98812400934790474017de005b61b",
          "grade": false,
          "grade_id": "cell-fa2944f22a609780",
          "locked": false,
          "schema_version": 1,
          "solution": true
        },
        "colab": {
          "base_uri": "https://localhost:8080/",
          "height": 0
        },
        "outputId": "46920717-2692-4b18-d0fb-7a2803f246d0"
      },
      "outputs": [
        {
          "output_type": "stream",
          "name": "stdout",
          "text": [
            "[np.float64(0.48626769087817434), np.float64(0.5433319930720171), np.float64(0.6008287178530346), np.float64(0.5873743513368589), np.float64(0.6097272092367517), np.float64(0.6391212792750024), np.float64(0.6527981873030196)]\n"
          ]
        }
      ],
      "source": [
        "#Make sure you return the answer value in this function.\n",
        "#The return value should be an integer.\n",
        "def q3(df):\n",
        "\n",
        "  # YOUR CODE HERE\n",
        "  # For KMeans use argument n_init = 10 when applicable.\n",
        "  adjusted_df = df.iloc[:,9:12]\n",
        "  adjusted_df = adjusted_df.dropna()\n",
        "  scores = []\n",
        "  for k in range(2,9):\n",
        "    kmeans = KMeans(n_clusters = k, random_state= 42, n_init= 10)\n",
        "    kmeans.fit(adjusted_df)\n",
        "    score = silhouette_score(adjusted_df, kmeans.labels_)\n",
        "    scores.append(score)\n",
        "  return scores\n",
        "  raise NotImplementedError()\n",
        "\n",
        "print(q3(df))"
      ]
    },
    {
      "cell_type": "markdown",
      "metadata": {
        "deletable": false,
        "editable": false,
        "id": "Y-5NyKXZ8Wf_",
        "nbgrader": {
          "checksum": "7f1e4d9e7bc46ed5b72756983c3ea7d1",
          "grade": false,
          "grade_id": "cell-ffde459d3d7f30d4",
          "locked": true,
          "schema_version": 1,
          "solution": false
        }
      },
      "source": [
        "What is the best choice of k?"
      ]
    },
    {
      "cell_type": "code",
      "execution_count": 9,
      "metadata": {
        "deletable": false,
        "id": "AZfZebXo8WgB",
        "nbgrader": {
          "checksum": "286a814a2fc12cff437655784716f2d7",
          "grade": true,
          "grade_id": "cell-dd60c729c46b5610",
          "locked": false,
          "points": 0.5,
          "schema_version": 1,
          "solution": true
        },
        "colab": {
          "base_uri": "https://localhost:8080/",
          "height": 0
        },
        "outputId": "1a936f8d-1892-4ae5-895e-e4285efd77af"
      },
      "outputs": [
        {
          "output_type": "stream",
          "name": "stdout",
          "text": [
            "k = 8\n"
          ]
        }
      ],
      "source": [
        "print('k = 8')"
      ]
    },
    {
      "cell_type": "markdown",
      "metadata": {
        "deletable": false,
        "editable": false,
        "id": "aQMzO6nF8WgJ",
        "nbgrader": {
          "checksum": "a18ebc832af60a47193b79496235a06c",
          "grade": false,
          "grade_id": "cell-3bf4719c7aa218c6",
          "locked": true,
          "schema_version": 1,
          "solution": false
        }
      },
      "source": [
        "### Question 4 `(1 point)`\n",
        "Take the best clustering (i.e., best value of K) from Question 3 and using the same subset of data from q11-q13, list the number of data points in each cluster. **Return your answer in dictionary form (i.e. `ans = {0: 100, 1: 200, ...}`).**\n",
        "\n",
        "For KMeans use argument **n_init = 10** when applicable"
      ]
    },
    {
      "cell_type": "code",
      "execution_count": 10,
      "metadata": {
        "deletable": false,
        "id": "ztW4Dgbc8WgN",
        "nbgrader": {
          "checksum": "cc9c33b42265e3a41d8fefb18770a4e8",
          "grade": false,
          "grade_id": "cell-24fde636c2f83a67",
          "locked": false,
          "schema_version": 1,
          "solution": true
        }
      },
      "outputs": [],
      "source": [
        "#Make sure you return the answer value in this function.\n",
        "#The return value should be an dictionary. Eg : {0:1000,1:500,2:1460}.\n",
        "def q4(df):\n",
        "\n",
        "  # YOUR CODE HERE\n",
        "  # For KMeans use argument n_init = 10 when applicable.\n",
        "  adjusted_df = df.iloc[:,9:12]\n",
        "  adjusted_df = adjusted_df.dropna()\n",
        "  kmeans = KMeans(n_clusters=8, random_state=42 ,n_init=10)\n",
        "  kmeans.fit(adjusted_df)\n",
        "  labels = kmeans.labels_\n",
        "  count = adjusted_df.groupby(kmeans.labels_).size().to_dict()\n",
        "  return count\n",
        "  raise NotImplementedError()"
      ]
    },
    {
      "cell_type": "code",
      "execution_count": 11,
      "metadata": {
        "deletable": false,
        "editable": false,
        "id": "iIUdLPIw8WgQ",
        "nbgrader": {
          "checksum": "99637ce263f2207d1701716f5f1f44ca",
          "grade": true,
          "grade_id": "cell-2deca552fa9f803f",
          "locked": true,
          "points": 1,
          "schema_version": 1,
          "solution": false
        },
        "colab": {
          "base_uri": "https://localhost:8080/",
          "height": 0
        },
        "outputId": "3c8700d7-d5da-4ccc-88e7-c6f5970b0885"
      },
      "outputs": [
        {
          "output_type": "stream",
          "name": "stdout",
          "text": [
            "{0: 9862, 1: 5728, 2: 1228, 3: 1632, 4: 3037, 5: 2108, 6: 4449, 7: 2065}\n"
          ]
        }
      ],
      "source": [
        "#This is an graded cell, do not edit\n",
        "print(q4(df))"
      ]
    },
    {
      "cell_type": "markdown",
      "metadata": {
        "deletable": false,
        "editable": false,
        "id": "xgii61fI8WgT",
        "nbgrader": {
          "checksum": "f455a94d03bf20a31ce26a2da672ee98",
          "grade": false,
          "grade_id": "cell-4277f89074807c16",
          "locked": true,
          "schema_version": 1,
          "solution": false
        }
      },
      "source": [
        "### Question 5 `(1 point)`\n",
        "Consider the best clustering from Question 3. Were there clusters that represented very **useful** but **not funny** reviewers (check column definitions for columns corresponding to funny, useful, etc.)?  If so, print the center of that cluster.\n",
        "\n",
        "For KMeans use argument **n_init = 10** when applicable"
      ]
    },
    {
      "cell_type": "code",
      "execution_count": 12,
      "metadata": {
        "deletable": false,
        "id": "_XzB8j6f8WgU",
        "nbgrader": {
          "checksum": "d2664de57a82a4d02c7d529617a1450c",
          "grade": false,
          "grade_id": "cell-550e8e6942843343",
          "locked": false,
          "schema_version": 1,
          "solution": true
        }
      },
      "outputs": [],
      "source": [
        "#Make sure you return the answer value in this function.\n",
        "#The return value should be a list. Eg : [10, 30, 54].\n",
        "def q5(df):\n",
        "\n",
        "  # YOUR CODE HERE\n",
        "  # For KMeans use argument n_init = 10 when applicable.\n",
        "  adjusted_df = df.iloc[:, 9:12]\n",
        "  adjusted_df = adjusted_df.dropna()\n",
        "  kmeans = KMeans(n_clusters=8, random_state=42, n_init=10)\n",
        "  kmeans.fit(adjusted_df)\n",
        "  labels = kmeans.labels_\n",
        "  adjusted_df['clusters'] = labels\n",
        "  cluster_centers = adjusted_df.groupby('clusters')[['q11','q12','q13']].mean()\n",
        "  return(cluster_centers.iloc[0].tolist())\n",
        "  # raise NotImplementedError()"
      ]
    },
    {
      "cell_type": "code",
      "execution_count": 13,
      "metadata": {
        "deletable": false,
        "editable": false,
        "id": "g22ke0I48WgX",
        "nbgrader": {
          "checksum": "36e1fb3627b616460376cfe2db01762c",
          "grade": true,
          "grade_id": "cell-5c9ad8f64f9e3cb9",
          "locked": true,
          "points": 1,
          "schema_version": 1,
          "solution": false
        },
        "colab": {
          "base_uri": "https://localhost:8080/",
          "height": 0
        },
        "outputId": "08372ee5-763f-4805-dd84-1c413e601148"
      },
      "outputs": [
        {
          "output_type": "stream",
          "name": "stdout",
          "text": [
            "[ 0.3  0.2 99.5]\n"
          ]
        }
      ],
      "source": [
        "#This is a graded cell, do not edit\n",
        "print(np.round(q5(df), decimals=1, out=None))"
      ]
    },
    {
      "cell_type": "markdown",
      "metadata": {
        "deletable": false,
        "editable": false,
        "id": "U2yg2Z2_8Wgd",
        "nbgrader": {
          "checksum": "423fac1c99ce7c9090dd9e96e6778777",
          "grade": false,
          "grade_id": "cell-303792a4ac61cb3a",
          "locked": true,
          "schema_version": 1,
          "solution": false
        }
      },
      "source": [
        "### Question 6 `(1 point)`\n",
        "Consider the best clustering from Question 3. What was the centroid of the cluster that represented relatively uniform strength in all voting categories?\n",
        "\n",
        "For KMeans use argument **n_init = 10** when applicable."
      ]
    },
    {
      "cell_type": "code",
      "execution_count": 14,
      "metadata": {
        "deletable": false,
        "id": "94isPDi08Wgf",
        "nbgrader": {
          "checksum": "9b6ebc1ed5ed8d8042dcf7cd49952b57",
          "grade": false,
          "grade_id": "cell-391c7439f978dff8",
          "locked": false,
          "schema_version": 1,
          "solution": true
        }
      },
      "outputs": [],
      "source": [
        "#Make sure you return the answer value in this function.\n",
        "#The return value should be a centroid in list form. Eg : [10, 10.5, 13].\n",
        "def q6(df):\n",
        "\n",
        "  # YOUR CODE HERE\n",
        "  # For KMeans use argument n_init = 10 when applicable.\n",
        "  adjusted_df = df.iloc[:, 9:12]\n",
        "  adjusted_df = adjusted_df.dropna()\n",
        "  kmeans = KMeans(n_clusters=8, random_state=42, n_init=10)\n",
        "  kmeans.fit(adjusted_df)\n",
        "  labels = kmeans.labels_\n",
        "  adjusted_df['clusters'] = labels\n",
        "  cluster_centers = adjusted_df.groupby('clusters')[['q11','q12','q13']].mean()\n",
        "  return (cluster_centers.iloc[1].tolist())\n",
        "  # raise NotImplementedError()"
      ]
    },
    {
      "cell_type": "code",
      "execution_count": 15,
      "metadata": {
        "deletable": false,
        "editable": false,
        "id": "GKePHYay8Wgl",
        "nbgrader": {
          "checksum": "cfcf6b7a02a8426368b49ab70898113b",
          "grade": true,
          "grade_id": "cell-4a75c628cdd62ed3",
          "locked": true,
          "points": 1,
          "schema_version": 1,
          "solution": false
        },
        "colab": {
          "base_uri": "https://localhost:8080/",
          "height": 0
        },
        "outputId": "bd52e72b-ef03-428b-8932-79948f00663e"
      },
      "outputs": [
        {
          "output_type": "stream",
          "name": "stdout",
          "text": [
            "[31.383367667597764, 30.399924930167597, 38.21405551675977]\n"
          ]
        }
      ],
      "source": [
        "#This is a graded cell, do not edit\n",
        "print(q6(df))"
      ]
    },
    {
      "cell_type": "markdown",
      "metadata": {
        "deletable": false,
        "editable": false,
        "id": "BlCXYH7J8Wgp",
        "nbgrader": {
          "checksum": "7277b47e7131491c1b5bc8487bc7f848",
          "grade": false,
          "grade_id": "cell-b29200abdbf3f648",
          "locked": true,
          "schema_version": 1,
          "solution": false
        }
      },
      "source": [
        "### Question 7 `(1 point)`\n",
        "Cluster the dataset using $k = 7$ and using features q7-q15 (refer to the column descriptions if needed).\n",
        "What is the silhouette metric for this clustering?\n",
        "For a more in-depth understanding of cluster analysis with silhouette, look [here](http://scikit-learn.org/stable/auto_examples/cluster/plot_kmeans_silhouette_analysis.html).\n",
        "\n",
        "As before, fill NaN values in q7-q10 with 0, but drop rows that have NaN values from q11-q15. For KMeans use argument **n_init = 10** when applicable"
      ]
    },
    {
      "cell_type": "code",
      "execution_count": 16,
      "metadata": {
        "deletable": false,
        "id": "P5AW-1Hj8Wgq",
        "nbgrader": {
          "checksum": "aadc8b4d3daea84bcdf7326f7d9e1e48",
          "grade": false,
          "grade_id": "cell-692872a9776a2f81",
          "locked": false,
          "schema_version": 1,
          "solution": true
        }
      },
      "outputs": [],
      "source": [
        "#Make sure you return the answer value in this function.\n",
        "#The return value should be a float.\n",
        "def q7(df):\n",
        "\n",
        "  # YOUR CODE HERE\n",
        "  # For KMeans use argument n_init = 10 when applicable.\n",
        "  adjust_df = df.iloc[:,5:14]\n",
        "  sub_df = adjust_df.iloc[:,0:3].fillna(0)\n",
        "  sub_df2 = adjust_df.iloc[:,3:].dropna()\n",
        "  adjust_df = pd.concat([sub_df.loc[sub_df2.index], sub_df2], axis=1)\n",
        "  kmeans = KMeans(n_clusters=7, random_state=42, n_init=10)\n",
        "  kmeans.fit(adjust_df)\n",
        "  score = silhouette_score(adjust_df, kmeans.labels_)\n",
        "  return score\n",
        "  # raise NotImplementedError()"
      ]
    },
    {
      "cell_type": "code",
      "execution_count": 17,
      "metadata": {
        "deletable": false,
        "editable": false,
        "id": "Kx23kyP18Wgw",
        "nbgrader": {
          "checksum": "7c847dc80333efefec63b12bce9a3c23",
          "grade": true,
          "grade_id": "cell-d5a3ed8462b9b40b",
          "locked": true,
          "points": 1,
          "schema_version": 1,
          "solution": false
        },
        "colab": {
          "base_uri": "https://localhost:8080/",
          "height": 0
        },
        "outputId": "27939b2c-15da-4c16-ab9b-50ddacfe3a13"
      },
      "outputs": [
        {
          "output_type": "stream",
          "name": "stdout",
          "text": [
            "0.4941985884148597\n"
          ]
        }
      ],
      "source": [
        "#This is a graded cell, do not edit\n",
        "print(q7(df))"
      ]
    },
    {
      "cell_type": "markdown",
      "metadata": {
        "deletable": false,
        "editable": false,
        "id": "ghXtWRlm8Wg1",
        "nbgrader": {
          "checksum": "b5206e977bdec3a2a2da9a55d42539e1",
          "grade": false,
          "grade_id": "cell-bb20d152047de4c0",
          "locked": true,
          "schema_version": 1,
          "solution": false
        }
      },
      "source": [
        "### Question 8 `(1 point)`\n",
        "Cluster the dataset using $k = 7$ and using features q7-q15 (refer to the column descriptions if needed).\n",
        "\n",
        "What is the average q3 value in each of the clusters? Replace/fill NaN values for q7-q15 as you have done for previous questions."
      ]
    },
    {
      "cell_type": "code",
      "execution_count": 18,
      "metadata": {
        "deletable": false,
        "id": "7VLNa7ZT8Wg2",
        "nbgrader": {
          "checksum": "cec8fcc62994a8c42d2a828240cf8d70",
          "grade": false,
          "grade_id": "cell-ce75d2c2b37a5939",
          "locked": false,
          "schema_version": 1,
          "solution": true
        }
      },
      "outputs": [],
      "source": [
        "#Make sure you return the answer value in this function.\n",
        "#The return value should be an Array. Eg : [10, 30, 54].\n",
        "def q8(df):\n",
        "\n",
        "  # YOUR CODE HERE\n",
        "  # For KMeans use argument n_init = 10 when applicable.\n",
        "  adjust_df = df.iloc[:,5:14]\n",
        "  sub_df = adjust_df.iloc[:,0:3].fillna(0)\n",
        "  sub_df2 = adjust_df.iloc[:,3:].dropna()\n",
        "  adjust_df = pd.concat([sub_df.loc[sub_df2.index], sub_df2], axis=1)\n",
        "  kmeans = KMeans(n_clusters=7, random_state=42, n_init=10)\n",
        "  kmeans.fit(adjust_df)\n",
        "  adjust_df['clusters'] = kmeans.labels_\n",
        "  average_q3 = adjust_df.groupby('clusters')['q7'].mean()\n",
        "  # have to reverse log because the best i could use was q7 (log of the reviews)\n",
        "  return np.exp(average_q3)\n",
        "  # raise NotImplementedError()"
      ]
    },
    {
      "cell_type": "code",
      "execution_count": 19,
      "metadata": {
        "deletable": false,
        "editable": false,
        "id": "uU1zA9hQ8Wg7",
        "nbgrader": {
          "checksum": "8fcac0a1587052a68abfd2dc22e6a444",
          "grade": true,
          "grade_id": "cell-125a523ba764c027",
          "locked": true,
          "points": 1,
          "schema_version": 1,
          "solution": false
        },
        "colab": {
          "base_uri": "https://localhost:8080/",
          "height": 0
        },
        "outputId": "0633726c-6147-47e9-8906-abe0d43979fd"
      },
      "outputs": [
        {
          "output_type": "stream",
          "name": "stdout",
          "text": [
            "clusters\n",
            "0    2.9\n",
            "1    1.8\n",
            "2    3.1\n",
            "3    3.4\n",
            "4    1.2\n",
            "5    2.4\n",
            "6    3.3\n",
            "Name: q7, dtype: float64\n"
          ]
        }
      ],
      "source": [
        "#This is a graded cell, do not edit\n",
        "print(np.round(q8(df), decimals=1, out=None))"
      ]
    },
    {
      "cell_type": "markdown",
      "metadata": {
        "deletable": false,
        "editable": false,
        "id": "ImMBccCv8WhE",
        "nbgrader": {
          "checksum": "539014b1c77f0d5159b9158216999ffa",
          "grade": false,
          "grade_id": "cell-32dc52f985a4469b",
          "locked": true,
          "schema_version": 1,
          "solution": false
        }
      },
      "source": [
        "### Question 9 `(2 points)`\n",
        "\n",
        "We will now cluster the dataset using all features in the dataset.\n",
        "\n",
        "We can drop features with high incidents of `-inf` / `NaN` / blank values. We will also perform some form of normalization on these features so as not to over bias the clustering towards the larger magnitude features.\n",
        "\n",
        "Let's go ahead and get started."
      ]
    },
    {
      "cell_type": "markdown",
      "metadata": {
        "id": "retvc8Yzp60D"
      },
      "source": [
        "\n",
        "#### Data Cleansing and Normalization ####\n",
        "**Check how many null values there are in each column.**"
      ]
    },
    {
      "cell_type": "code",
      "execution_count": 20,
      "metadata": {
        "deletable": false,
        "id": "vdt07lvl8WhH",
        "nbgrader": {
          "checksum": "26c5eee0748fe77d6f219f2f654adc69",
          "grade": false,
          "grade_id": "cell-00e25d9828db774a",
          "locked": true,
          "schema_version": 1,
          "solution": false
        },
        "colab": {
          "base_uri": "https://localhost:8080/",
          "height": 0
        },
        "outputId": "64a62f9e-c451-4aae-e2cd-33e3ed2133a1"
      },
      "outputs": [
        {
          "output_type": "stream",
          "name": "stdout",
          "text": [
            "{'user_id': 0, 'q3': 0, 'q4': 0, 'q5': 0, 'q6': 0, 'q7': 0, 'q8': 35280, 'q9': 36743, 'q10': 24338, 'q11': 21383, 'q12': 21383, 'q13': 21383, 'q14': 0, 'q15': 0, 'q16a': 0, 'q16b': 0, 'q16c': 0, 'q16d': 0, 'q16e': 0, 'q16f': 0, 'q16g': 0, 'q16h': 0, 'q16i': 0, 'q16j': 0, 'q16k': 0, 'q16l': 0, 'q16m': 0, 'q16n': 0, 'q16o': 0, 'q16p': 0, 'q16q': 0, 'q16r': 0, 'q16s': 0, 'q16t': 0, 'q16u': 0, 'q16v': 0, 'q16w': 0, 'q16x': 0, 'q16y': 0, 'q16z': 0, 'q16aa': 0, 'q16ab': 14469, 'q16ac': 0}\n"
          ]
        }
      ],
      "source": [
        "null_count = df.isnull().sum().to_dict()\n",
        "print(null_count)"
      ]
    },
    {
      "cell_type": "markdown",
      "metadata": {
        "deletable": false,
        "editable": false,
        "id": "yzAo6QRS8WhO",
        "nbgrader": {
          "checksum": "059796c35a25a2239b6af643d573077c",
          "grade": false,
          "grade_id": "cell-dda1709aadca4b74",
          "locked": true,
          "schema_version": 1,
          "solution": false
        }
      },
      "source": [
        "It looks like q8 - q13 and q16ab have a lot of null values. Let's see what the impact is of removing the two columns with the most null values.\n",
        "\n",
        "**Drop the two columns with the most NaN values, and then remove all rows with NaN values remaining.**"
      ]
    },
    {
      "cell_type": "code",
      "execution_count": 21,
      "metadata": {
        "deletable": false,
        "id": "pSrZ9i3g8WhQ",
        "nbgrader": {
          "checksum": "c9201f034d5527471e11c4bdf4259a06",
          "grade": false,
          "grade_id": "cell-e67e9b14f016567d",
          "locked": true,
          "schema_version": 1,
          "solution": false
        },
        "colab": {
          "base_uri": "https://localhost:8080/",
          "height": 0
        },
        "outputId": "63f2218d-77f7-4e4e-81e4-5142e2625ca0"
      },
      "outputs": [
        {
          "output_type": "stream",
          "name": "stdout",
          "text": [
            "                       user_id  q3  q4  q5  q6    q7   q10    q11    q12  \\\n",
            "47453   Gd_IGX3BmRYbPD84ovLEoA   8   2   1   8  2.08  2.08  18.18   9.09   \n",
            "53000   Ihx1EQHDTIoXM35Cc08r2Q   2   1   1   2  0.69  0.69  25.00  25.00   \n",
            "64580   N22hkNXzJdz_v_KocOy6vA   1   0   0   1  0.00  0.00   0.00   0.00   \n",
            "84662   UZ2TflixHLqkCL9G6ykCNw   5   0   0   4  1.61  1.39   0.00   0.00   \n",
            "50079   HcL7R7ingTW8nenpD3X2cg   8   8   5  13  2.08  2.56  30.77  19.23   \n",
            "...                        ...  ..  ..  ..  ..   ...   ...    ...    ...   \n",
            "3090    09cpNEc8L-jr9R8-e7cJuA   6   1   2   2  1.79  0.69  20.00  40.00   \n",
            "69511   OrtDTPj1J2injmWcHyTyWw   3   1   2   8  1.10  2.08   9.09  18.18   \n",
            "77193   RjjsMfDoxbwMVPi-DLvftQ  19   2   2   7  2.94  1.95  18.18  18.18   \n",
            "88687   W21PBCWu59Bo5LRv9-sYNg   8   0   1   5  2.08  1.61   0.00  16.67   \n",
            "107905  cD9d9XFoC_bETPzjpnRj9g   9  14  11  15  2.20  2.71  35.00  27.50   \n",
            "\n",
            "           q13  ...  q16t      q16u  q16v  q16w      q16x        q16y  q16z  \\\n",
            "47453    72.73  ...    no  0.375000     8    39  0.001755   91.072917     4   \n",
            "53000    50.00  ...    no  1.000000    22     6  0.000000   46.500000     0   \n",
            "64580   100.00  ...    no  1.000000    37     5  0.000498  197.000000     0   \n",
            "84662   100.00  ...    no  1.400000    14    18  0.001578  167.000000     1   \n",
            "50079    50.00  ...    no  0.500000     3    30  0.009861   91.552083     1   \n",
            "...        ...  ...   ...       ...   ...   ...       ...         ...   ...   \n",
            "3090     40.00  ...    no  1.166667    10    16  0.001286  362.916667     0   \n",
            "69511    72.73  ...    no  0.666667    25    13  0.003016   60.111111     1   \n",
            "77193    63.64  ...   yes  0.315789    12    62  0.018841   41.166667     0   \n",
            "88687    83.33  ...    no  0.250000    34    31  0.000000   36.041667     0   \n",
            "107905   37.50  ...    no  0.555556    28    35  0.004566   62.851852     2   \n",
            "\n",
            "        q16aa     q16ab     q16ac  \n",
            "47453       0  1.000000  4.875000  \n",
            "53000       3  0.000000  3.000000  \n",
            "64580       0  0.000000  5.000000  \n",
            "84662       0  1.250000  3.600000  \n",
            "50079      13  4.000000  3.750000  \n",
            "...       ...       ...       ...  \n",
            "3090        0  2.500000  2.666667  \n",
            "69511       0  1.333333  4.333333  \n",
            "77193       3  0.500000  3.263158  \n",
            "88687       0  0.347826  3.875000  \n",
            "107905      0  0.000000  3.888889  \n",
            "\n",
            "[19582 rows x 41 columns]\n"
          ]
        }
      ],
      "source": [
        "adjusted_df = df.drop(columns = ['q8', 'q9'])\n",
        "adjusted_df = adjusted_df.dropna()\n",
        "print(adjusted_df)"
      ]
    },
    {
      "cell_type": "markdown",
      "metadata": {
        "deletable": false,
        "editable": false,
        "id": "gQbRuq_Z8Whb",
        "nbgrader": {
          "checksum": "55ec19beab75bcb01d51763aa77b7c7d",
          "grade": false,
          "grade_id": "cell-0832f08869a19534",
          "locked": true,
          "schema_version": 1,
          "solution": false
        }
      },
      "source": [
        "By removing two features, we have effectively doubled the number of rows remaining than if we just removed all rows with a NaN value. That's pretty good.  \n",
        "\n",
        "Now, let's preprocess categorical variables into dummy variables. (hint: look at `pd.get_dummies`)."
      ]
    },
    {
      "cell_type": "code",
      "execution_count": 22,
      "metadata": {
        "id": "TuE4zwIBzDGZ",
        "colab": {
          "base_uri": "https://localhost:8080/",
          "height": 0
        },
        "outputId": "308a0e4b-1ec4-4da2-9529-d4c200df5d07"
      },
      "outputs": [
        {
          "output_type": "stream",
          "name": "stdout",
          "text": [
            "                       user_id  q3  q4  q5  q6    q7   q10    q11    q12  \\\n",
            "47453   Gd_IGX3BmRYbPD84ovLEoA   8   2   1   8  2.08  2.08  18.18   9.09   \n",
            "53000   Ihx1EQHDTIoXM35Cc08r2Q   2   1   1   2  0.69  0.69  25.00  25.00   \n",
            "64580   N22hkNXzJdz_v_KocOy6vA   1   0   0   1  0.00  0.00   0.00   0.00   \n",
            "84662   UZ2TflixHLqkCL9G6ykCNw   5   0   0   4  1.61  1.39   0.00   0.00   \n",
            "50079   HcL7R7ingTW8nenpD3X2cg   8   8   5  13  2.08  2.56  30.77  19.23   \n",
            "...                        ...  ..  ..  ..  ..   ...   ...    ...    ...   \n",
            "3090    09cpNEc8L-jr9R8-e7cJuA   6   1   2   2  1.79  0.69  20.00  40.00   \n",
            "69511   OrtDTPj1J2injmWcHyTyWw   3   1   2   8  1.10  2.08   9.09  18.18   \n",
            "77193   RjjsMfDoxbwMVPi-DLvftQ  19   2   2   7  2.94  1.95  18.18  18.18   \n",
            "88687   W21PBCWu59Bo5LRv9-sYNg   8   0   1   5  2.08  1.61   0.00  16.67   \n",
            "107905  cD9d9XFoC_bETPzjpnRj9g   9  14  11  15  2.20  2.71  35.00  27.50   \n",
            "\n",
            "           q13  ...  q16v  q16w      q16x        q16y  q16z  q16aa     q16ab  \\\n",
            "47453    72.73  ...     8    39  0.001755   91.072917     4      0  1.000000   \n",
            "53000    50.00  ...    22     6  0.000000   46.500000     0      3  0.000000   \n",
            "64580   100.00  ...    37     5  0.000498  197.000000     0      0  0.000000   \n",
            "84662   100.00  ...    14    18  0.001578  167.000000     1      0  1.250000   \n",
            "50079    50.00  ...     3    30  0.009861   91.552083     1     13  4.000000   \n",
            "...        ...  ...   ...   ...       ...         ...   ...    ...       ...   \n",
            "3090     40.00  ...    10    16  0.001286  362.916667     0      0  2.500000   \n",
            "69511    72.73  ...    25    13  0.003016   60.111111     1      0  1.333333   \n",
            "77193    63.64  ...    12    62  0.018841   41.166667     0      3  0.500000   \n",
            "88687    83.33  ...    34    31  0.000000   36.041667     0      0  0.347826   \n",
            "107905   37.50  ...    28    35  0.004566   62.851852     2      0  0.000000   \n",
            "\n",
            "           q16ac  q16t_no  q16t_yes  \n",
            "47453   4.875000     True     False  \n",
            "53000   3.000000     True     False  \n",
            "64580   5.000000     True     False  \n",
            "84662   3.600000     True     False  \n",
            "50079   3.750000     True     False  \n",
            "...          ...      ...       ...  \n",
            "3090    2.666667     True     False  \n",
            "69511   4.333333     True     False  \n",
            "77193   3.263158    False      True  \n",
            "88687   3.875000     True     False  \n",
            "107905  3.888889     True     False  \n",
            "\n",
            "[19582 rows x 42 columns]\n"
          ]
        }
      ],
      "source": [
        "df_encoded = pd.get_dummies(adjusted_df, columns = ['q16t'])\n",
        "print(df_encoded)"
      ]
    },
    {
      "cell_type": "markdown",
      "metadata": {
        "deletable": false,
        "editable": false,
        "id": "AGnnilDI8Whl",
        "nbgrader": {
          "checksum": "7409a97cd6cc5a2203cb5953fd78951e",
          "grade": false,
          "grade_id": "cell-0bf07ed81b15a7c6",
          "locked": true,
          "schema_version": 1,
          "solution": false
        }
      },
      "source": [
        "Now, normalize the remaining values."
      ]
    },
    {
      "cell_type": "code",
      "execution_count": 23,
      "metadata": {
        "deletable": false,
        "id": "-tYTGviT8Whm",
        "nbgrader": {
          "checksum": "d415896af702471cbf3bad5e3bbf2298",
          "grade": false,
          "grade_id": "cell-d0c0fa3af31b680b",
          "locked": true,
          "schema_version": 1,
          "solution": false
        },
        "colab": {
          "base_uri": "https://localhost:8080/",
          "height": 0
        },
        "outputId": "b69f73ce-a59f-41e8-c63e-b435fa0e5025"
      },
      "outputs": [
        {
          "output_type": "stream",
          "name": "stdout",
          "text": [
            "                       user_id        q3        q4        q5        q6  \\\n",
            "47453   Gd_IGX3BmRYbPD84ovLEoA  0.011846  0.002962  0.001481  0.011846   \n",
            "53000   Ihx1EQHDTIoXM35Cc08r2Q  0.003713  0.001856  0.001856  0.003713   \n",
            "64580   N22hkNXzJdz_v_KocOy6vA  0.000492  0.000000  0.000000  0.000492   \n",
            "84662   UZ2TflixHLqkCL9G6ykCNw  0.003793  0.000000  0.000000  0.003034   \n",
            "50079   HcL7R7ingTW8nenpD3X2cg  0.007589  0.007589  0.004743  0.012333   \n",
            "...                        ...       ...       ...       ...       ...   \n",
            "3090    09cpNEc8L-jr9R8-e7cJuA  0.002651  0.000442  0.000884  0.000884   \n",
            "69511   OrtDTPj1J2injmWcHyTyWw  0.003807  0.001269  0.002538  0.010153   \n",
            "77193   RjjsMfDoxbwMVPi-DLvftQ  0.068863  0.007249  0.007249  0.025371   \n",
            "88687   W21PBCWu59Bo5LRv9-sYNg  0.025161  0.000000  0.003145  0.015726   \n",
            "107905  cD9d9XFoC_bETPzjpnRj9g  0.012889  0.020050  0.015754  0.021482   \n",
            "\n",
            "              q7       q10       q11       q12       q13  ...  q16t      q16u  \\\n",
            "47453   0.003080  0.003080  0.026920  0.013460  0.107696  ...    no  0.000555   \n",
            "53000   0.001281  0.001281  0.046410  0.046410  0.092821  ...    no  0.001856   \n",
            "64580   0.000000  0.000000  0.000000  0.000000  0.049250  ...    no  0.000492   \n",
            "84662   0.001221  0.001054  0.000000  0.000000  0.075862  ...    no  0.001062   \n",
            "50079   0.001973  0.002429  0.029191  0.018243  0.047434  ...    no  0.000474   \n",
            "...          ...       ...       ...       ...       ...  ...   ...       ...   \n",
            "3090    0.000791  0.000305  0.008838  0.017676  0.017676  ...    no  0.000516   \n",
            "69511   0.001396  0.002640  0.011536  0.023073  0.092304  ...    no  0.000846   \n",
            "77193   0.010656  0.007068  0.065891  0.065891  0.230656  ...   yes  0.001145   \n",
            "88687   0.006542  0.005064  0.000000  0.052430  0.262088  ...    no  0.000786   \n",
            "107905  0.003151  0.003881  0.050125  0.039384  0.053706  ...    no  0.000796   \n",
            "\n",
            "            q16v      q16w          q16x      q16y      q16z     q16aa  \\\n",
            "47453   0.011846  0.057750  2.598811e-06  0.134857  0.005923  0.000000   \n",
            "53000   0.040841  0.011138  0.000000e+00  0.086323  0.000000  0.005569   \n",
            "64580   0.018222  0.002462  2.450239e-07  0.097022  0.000000  0.000000   \n",
            "84662   0.010621  0.013655  1.197059e-06  0.126690  0.000759  0.000000   \n",
            "50079   0.002846  0.028460  9.355195e-06  0.086853  0.000949  0.012333   \n",
            "...          ...       ...           ...       ...       ...       ...   \n",
            "3090    0.004419  0.007071  5.684447e-07  0.160377  0.000000  0.000000   \n",
            "69511   0.031728  0.016499  3.827818e-06  0.076289  0.001269  0.000000   \n",
            "77193   0.043493  0.224712  6.828546e-05  0.149204  0.000000  0.010873   \n",
            "88687   0.106936  0.097500  0.000000e+00  0.113357  0.000000  0.000000   \n",
            "107905  0.040100  0.050125  6.539530e-06  0.090013  0.002864  0.000000   \n",
            "\n",
            "           q16ab     q16ac  \n",
            "47453   0.001481  0.007219  \n",
            "53000   0.000000  0.005569  \n",
            "64580   0.000000  0.002462  \n",
            "84662   0.000948  0.002731  \n",
            "50079   0.003795  0.003558  \n",
            "...          ...       ...  \n",
            "3090    0.001105  0.001178  \n",
            "69511   0.001692  0.005500  \n",
            "77193   0.001812  0.011827  \n",
            "88687   0.001094  0.012188  \n",
            "107905  0.000000  0.005569  \n",
            "\n",
            "[19582 rows x 41 columns]\n"
          ]
        }
      ],
      "source": [
        "exclude = ['user_id', 'q16t_no', 'q16_yes']\n",
        "needed_cols = [column for column in adjusted_df.select_dtypes(include=['number']).columns if column not in exclude]\n",
        "adjusted_df[needed_cols] = pd.DataFrame(normalize(adjusted_df[needed_cols]),\n",
        "                                        columns= needed_cols,\n",
        "                                        index = adjusted_df.index)\n",
        "print(adjusted_df)\n"
      ]
    },
    {
      "cell_type": "markdown",
      "metadata": {
        "deletable": false,
        "editable": false,
        "id": "jSJjHlsc8Wht",
        "nbgrader": {
          "checksum": "26e9bec01f855d44456f65879afa7ccf",
          "grade": false,
          "grade_id": "cell-be1b2a4ecbcb5558",
          "locked": true,
          "schema_version": 1,
          "solution": false
        }
      },
      "source": [
        "Using the the \"sum of squared errors\" metric along with the elbow method (make a graph and visually examine for the elbow), what is the best k to use for this dataset? (Hint: look at the `inertia_` attribute for k-means in sklearn)."
      ]
    },
    {
      "cell_type": "code",
      "execution_count": 24,
      "metadata": {
        "deletable": false,
        "id": "HoZOPumL8Whv",
        "nbgrader": {
          "checksum": "3971d6b7067c2e2b586a79b0fca34252",
          "grade": true,
          "grade_id": "cell-f49f54902337159c",
          "locked": false,
          "points": 2,
          "schema_version": 1,
          "solution": true
        },
        "colab": {
          "base_uri": "https://localhost:8080/",
          "height": 477
        },
        "outputId": "985f784b-0b93-47ca-981c-dbceb82d71da"
      },
      "outputs": [
        {
          "output_type": "display_data",
          "data": {
            "text/plain": [
              "<Figure size 640x480 with 1 Axes>"
            ],
            "image/png": "[encoded data removed]"
          },
          "metadata": {}
        }
      ],
      "source": [
        "# The return value should be a graph to visualize the elbow method and the value of k determined from that graph.\n",
        "\n",
        "# YOUR CODE HERE\n",
        "# For KMeans use argument n_init = 10 when applicable.\n",
        "\n",
        "exclude = ['user_id', 'q16t_no', 'q16_yes']\n",
        "number_columns = [column for column in adjusted_df.select_dtypes(include=['number']).columns if column not in exclude]\n",
        "clusterable_data = adjusted_df[number_columns]\n",
        "value = []\n",
        "distance = range(1,9)\n",
        "for k in distance:\n",
        "  kmeans = KMeans(n_clusters=k, random_state=42, n_init=10)\n",
        "  kmeans.fit(clusterable_data)\n",
        "  value.append(kmeans.inertia_)\n",
        "# print(value)\n",
        "plt.plot(distance,value)\n",
        "plt.xlabel(\"Number of clusters\")\n",
        "plt.ylabel(\"SSE\")\n",
        "plt.title(\"Elbow method for the optimal k\")\n",
        "plt.show()\n",
        "\n"
      ]
    },
    {
      "cell_type": "markdown",
      "metadata": {
        "id": "pbXEsAnx2-ik"
      },
      "source": [
        "**Answer: YOUR ANSWER HERE**\n",
        "\n",
        "I think k 4 is the best cluster to use for this\n"
      ]
    },
    {
      "cell_type": "markdown",
      "metadata": {
        "deletable": false,
        "editable": false,
        "id": "_-cRpVgA8Wh2",
        "nbgrader": {
          "checksum": "78e8416b2c9c63fb2e91cc747a982eb9",
          "grade": false,
          "grade_id": "cell-ed56b09f2baf02c7",
          "locked": true,
          "schema_version": 1,
          "solution": false
        }
      },
      "source": [
        "### Question 10 `(1 points)`\n",
        "For this question, please come up with your own question about this dataset and using a clustering technique as part of your method of answering it. Describe the question you propose and how clustering can answer that question. Feel free to use additional cells if needed.\n"
      ]
    },
    {
      "cell_type": "markdown",
      "metadata": {
        "id": "c9JeChN2CcsC"
      },
      "source": [
        "**Question: YOUR QUESTION HERE**\n",
        "\n",
        " can we group reviewers as effectively as possible based of their type of votes , what's the most optimal K?\n",
        "\n"
      ]
    },
    {
      "cell_type": "code",
      "execution_count": 43,
      "metadata": {
        "id": "Xn1xen_8CuY3",
        "colab": {
          "base_uri": "https://localhost:8080/",
          "height": 752
        },
        "outputId": "a014f6f2-d609-4289-9103-86b7be4d8721"
      },
      "outputs": [
        {
          "output_type": "stream",
          "name": "stdout",
          "text": [
            "[68113162.54176822, 35248782.27145861, 21201820.529207423, 13106977.66861296, 8508371.47140104, 6147443.68531627, 4509992.039779883, 3651360.796526204, 2849483.872371677]\n",
            "          q11     q12     q13\n",
            "47453   18.18    9.09   72.73\n",
            "53000   25.00   25.00   50.00\n",
            "64580    0.00    0.00  100.00\n",
            "84662    0.00    0.00  100.00\n",
            "50079   30.77   19.23   50.00\n",
            "...       ...     ...     ...\n",
            "153559   0.00   16.67   83.33\n",
            "74117    0.00  100.00    0.00\n",
            "77193   18.18   18.18   63.64\n",
            "88687    0.00   16.67   83.33\n",
            "107905  35.00   27.50   37.50\n",
            "\n",
            "[30109 rows x 3 columns]\n"
          ]
        },
        {
          "output_type": "display_data",
          "data": {
            "text/plain": [
              "<Figure size 640x480 with 1 Axes>"
            ],
            "image/png": "[encoded data removed]"
          },
          "metadata": {}
        }
      ],
      "source": [
        "df.head()\n",
        "adjusted_df = df.iloc[:, 9:12]\n",
        "\n",
        "#get the values(SSE) k's\n",
        "distance = range(1,10)\n",
        "values = []\n",
        "adjusted_df = adjusted_df.dropna()\n",
        "for k in distance:\n",
        "  kmeans = KMeans(n_clusters=k,random_state=42, n_init=10)\n",
        "  kmeans.fit(adjusted_df)\n",
        "  values.append(kmeans.inertia_)\n",
        "print(values)\n",
        "print(adjusted_df)\n",
        "#k=5 is the best in my opion\n",
        "kmeans = KMeans(n_clusters=5, random_state=42, n_init=10)\n",
        "kmeans.fit(adjusted_df)\n",
        "adjusted_df['cluster'] = kmeans.labels_\n",
        "plt.scatter(adjusted_df['q11'], adjusted_df['q12'], adjusted_df['q13'], c = adjusted_df['cluster'])\n",
        "plt.title(\"K5 Clustters\")\n",
        "plt.show()\n"
      ]
    },
    {
      "cell_type": "markdown",
      "metadata": {
        "id": "5nkFsYVnD7ll"
      },
      "source": [
        "### **Written Answer**"
      ]
    },
    {
      "cell_type": "markdown",
      "metadata": {
        "id": "b-aokzFoDhWA"
      },
      "source": [
        "**Answer:** the right k for this problem is 5, and yes you can make a k means graph to solve this problem."
      ]
    },
    {
      "cell_type": "markdown",
      "metadata": {
        "deletable": false,
        "editable": false,
        "id": "Ylv6UWqm8WiC",
        "nbgrader": {
          "checksum": "47c18987b74081b9f0e201d36229f33d",
          "grade": false,
          "grade_id": "cell-b549ed2cba475bb7",
          "locked": true,
          "schema_version": 1,
          "solution": false
        }
      },
      "source": [
        "## Bonus question (`2 Points`) - Reviewer overlap:\n",
        "\n",
        "Now, let's take a look back at what we were doing last week, and use that in junction with what we've learned from above today.\n",
        "\n",
        "For this bonus question, please:\n",
        "- Download last week's dataset\n",
        "- Aggregate cool, funny, and useful votes for each business id\n",
        "- You may transform the aggregations (take %, log, or leave it as it is)\n",
        "- Cluster this dataframe (you can choose k). Do you find any meaningful/interesting clusters?\n",
        "- Assign the cluster label to each business id\n",
        "- Merge this with users to show what clusters the reviewers have reviewed.\n",
        "\n",
        "\n",
        "**You should be returning a dataframe with the following structure in the end:**\n",
        "\n",
        "Rows: user IDs as indices.\n",
        "\n",
        "Columns: boolean columns describing if the user ID has a review for each of the labels determined from the K-Means clustering, a boolean column describing if the user ID has a review for all of the given labels, and a column composing of lists of cluster IDs that the given user ID has written reviews for.\n",
        "\n",
        "For KMeans use argument n_init=10 when applicable."
      ]
    },
    {
      "cell_type": "code",
      "execution_count": 26,
      "metadata": {
        "id": "ZA7-1wpAE40P"
      },
      "outputs": [],
      "source": [
        "# YOUR CODE HERE\n",
        "# For KMeans use argument n_init = 10 when applicable."
      ]
    },
    {
      "cell_type": "code",
      "execution_count": 27,
      "metadata": {
        "deletable": false,
        "editable": false,
        "id": "EgyyE_xVteq8",
        "colab": {
          "base_uri": "https://localhost:8080/",
          "height": 167
        },
        "outputId": "11653205-0220-491f-888d-a338ecb0977d"
      },
      "outputs": [
        {
          "output_type": "error",
          "ename": "NameError",
          "evalue": "name 'bonus_df' is not defined",
          "traceback": [
            "\u001b[0;31m---------------------------------------------------------------------------\u001b[0m",
            "\u001b[0;31mNameError\u001b[0m                                 Traceback (most recent call last)",
            "\u001b[0;32m/tmp/ipython-input-1952538169.py\u001b[0m in \u001b[0;36m<cell line: 0>\u001b[0;34m()\u001b[0m\n\u001b[1;32m      1\u001b[0m \u001b[0;31m#This is a graded cell, do not edit\u001b[0m\u001b[0;34m\u001b[0m\u001b[0;34m\u001b[0m\u001b[0m\n\u001b[0;32m----> 2\u001b[0;31m \u001b[0mprint\u001b[0m\u001b[0;34m(\u001b[0m\u001b[0mbonus_df\u001b[0m\u001b[0;34m.\u001b[0m\u001b[0mhead\u001b[0m\u001b[0;34m(\u001b[0m\u001b[0;34m)\u001b[0m\u001b[0;34m)\u001b[0m\u001b[0;34m\u001b[0m\u001b[0;34m\u001b[0m\u001b[0m\n\u001b[0m",
            "\u001b[0;31mNameError\u001b[0m: name 'bonus_df' is not defined"
          ]
        }
      ],
      "source": [
        "#This is a graded cell, do not edit\n",
        "print(bonus_df.head())"
      ]
    },
    {
      "cell_type": "markdown",
      "metadata": {
        "id": "h7v7FfzrDKCo"
      },
      "source": [
        "*ⓒ Prof. Zachary Pardos, 2022*"
      ]
    }
  ],
  "metadata": {
    "colab": {
      "provenance": [],
      "include_colab_link": true
    },
    "kernelspec": {
      "display_name": "Python [conda env:base] *",
      "language": "python",
      "name": "conda-base-py"
    },
    "language_info": {
      "codemirror_mode": {
        "name": "ipython",
        "version": 3
      },
      "file_extension": ".py",
      "mimetype": "text/x-python",
      "name": "python",
      "nbconvert_exporter": "python",
      "pygments_lexer": "ipython3",
      "version": "3.13.5"
    }
  },
  "nbformat": 4,
  "nbformat_minor": 0
}